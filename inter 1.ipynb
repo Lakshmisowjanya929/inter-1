{
 "cells": [
  {
   "cell_type": "code",
   "execution_count": 2,
   "id": "db4a443f-4996-450d-8ddf-c81aed56309c",
   "metadata": {},
   "outputs": [
    {
     "name": "stderr",
     "output_type": "stream",
     "text": [
      "[nltk_data] Downloading package punkt to C:/Users/DELL/nltk_data...\n",
      "[nltk_data]   Package punkt is already up-to-date!\n"
     ]
    },
    {
     "data": {
      "text/plain": [
       "True"
      ]
     },
     "execution_count": 2,
     "metadata": {},
     "output_type": "execute_result"
    }
   ],
   "source": [
    "import nltk\n",
    "\n",
    "# ✅ Set NLTK data path (where your tokenizer will be stored)\n",
    "nltk.data.path.append(\"C:/Users/DELL/nltk_data\")\n",
    "\n",
    "# ✅ Force download of the punkt tokenizer to that folder\n",
    "nltk.download('punkt', download_dir='C:/Users/DELL/nltk_data')\n"
   ]
  },
  {
   "cell_type": "code",
   "execution_count": null,
   "id": "af1d7455-0bc3-492a-a246-c7d5ce89f5fe",
   "metadata": {},
   "outputs": [],
   "source": [
    " "
   ]
  },
  {
   "cell_type": "code",
   "execution_count": null,
   "id": "6687e37d-ea64-4c7b-a4b8-953660a3a57b",
   "metadata": {},
   "outputs": [
    {
     "name": "stdin",
     "output_type": "stream",
     "text": [
      "You:  give me about taj mahal\n"
     ]
    },
    {
     "name": "stdout",
     "output_type": "stream",
     "text": [
      "Bot: Hello! How can I assist you today?\n"
     ]
    },
    {
     "name": "stdin",
     "output_type": "stream",
     "text": [
      "You:  how are you?\n"
     ]
    },
    {
     "name": "stdout",
     "output_type": "stream",
     "text": [
      "Bot: Hello! How can I assist you today?\n"
     ]
    },
    {
     "name": "stdin",
     "output_type": "stream",
     "text": [
      "You:  hi\n"
     ]
    },
    {
     "name": "stdout",
     "output_type": "stream",
     "text": [
      "Bot: Hello! How can I assist you today?\n"
     ]
    },
    {
     "name": "stdin",
     "output_type": "stream",
     "text": [
      "You:  bye\n"
     ]
    },
    {
     "name": "stdout",
     "output_type": "stream",
     "text": [
      "Bot: Goodbye! Have a great day!\n"
     ]
    },
    {
     "name": "stdin",
     "output_type": "stream",
     "text": [
      "You:  thanks\n"
     ]
    },
    {
     "name": "stdout",
     "output_type": "stream",
     "text": [
      "Bot: You're welcome!\n"
     ]
    }
   ],
   "source": [
    "import re\n",
    "from sklearn.feature_extraction.text import CountVectorizer\n",
    "from sklearn.naive_bayes import MultinomialNB\n",
    "from sklearn.pipeline import Pipeline\n",
    "\n",
    "# Sample chatbot training data\n",
    "training_data = [\n",
    "    (\"Hi\", \"greeting\"),\n",
    "    (\"Hello\", \"greeting\"),\n",
    "    (\"Hey\", \"greeting\"),\n",
    "    (\"How are you?\", \"greeting\"),\n",
    "    (\"Bye\", \"farewell\"),\n",
    "    (\"Goodbye\", \"farewell\"),\n",
    "    (\"See you later\", \"farewell\"),\n",
    "    (\"Thanks\", \"thanks\"),\n",
    "    (\"Thank you\", \"thanks\"),\n",
    "    (\"What's your name?\", \"name_query\"),\n",
    "    (\"Who are you?\", \"name_query\"),\n",
    "    (\"What can you do?\", \"capability\"),\n",
    "    (\"Tell me a joke\", \"joke\"),\n",
    "]\n",
    "\n",
    "# Separate input sentences and labels\n",
    "X = [x[0] for x in training_data]\n",
    "y = [x[1] for x in training_data]\n",
    "\n",
    "# ✅ Simple tokenizer (no NLTK dependency)\n",
    "def simple_tokenizer(text):\n",
    "    return re.findall(r'\\b\\w\\w+\\b', text.lower())\n",
    "\n",
    "# Create a pipeline model (vectorizer + classifier)\n",
    "model = Pipeline([\n",
    "    ('vectorizer', CountVectorizer(tokenizer=simple_tokenizer)),\n",
    "    ('classifier', MultinomialNB())\n",
    "])\n",
    "\n",
    "# Train the model\n",
    "model.fit(X, y)\n",
    "\n",
    "# Function to generate chatbot response\n",
    "def chatbot_response(user_input):\n",
    "    tag = model.predict([user_input])[0]\n",
    "    responses = {\n",
    "        \"greeting\": \"Hello! How can I assist you today?\",\n",
    "        \"farewell\": \"Goodbye! Have a great day!\",\n",
    "        \"thanks\": \"You're welcome!\",\n",
    "        \"name_query\": \"I'm your friendly chatbot!\",\n",
    "        \"capability\": \"I can answer basic questions. Try asking me something!\",\n",
    "        \"joke\": \"Why don't scientists trust atoms? Because they make up everything!\"\n",
    "    }\n",
    "    return responses.get(tag, \"Sorry, I didn’t understand that. Can you rephrase?\")\n",
    "\n",
    "# Example chat\n",
    "while True:\n",
    "    user_input = input(\"You: \")\n",
    "    if user_input.lower() in [\"exit\", \"quit\"]:\n",
    "        print(\"Bot: Goodbye!\")\n",
    "        break\n",
    "    response = chatbot_response(user_input)\n",
    "    print(\"Bot:\", response)\n"
   ]
  },
  {
   "cell_type": "code",
   "execution_count": null,
   "id": "8a38b501-1a24-4b64-9ad6-dd50c90eefce",
   "metadata": {},
   "outputs": [],
   "source": []
  }
 ],
 "metadata": {
  "kernelspec": {
   "display_name": "Python 3 (ipykernel)",
   "language": "python",
   "name": "python3"
  },
  "language_info": {
   "codemirror_mode": {
    "name": "ipython",
    "version": 3
   },
   "file_extension": ".py",
   "mimetype": "text/x-python",
   "name": "python",
   "nbconvert_exporter": "python",
   "pygments_lexer": "ipython3",
   "version": "3.11.9"
  }
 },
 "nbformat": 4,
 "nbformat_minor": 5
}
